{
 "cells": [
  {
   "cell_type": "code",
   "execution_count": 1,
   "metadata": {},
   "outputs": [
    {
     "data": {
      "text/html": [
       "\n",
       "        <div>\n",
       "            <p><b>SparkContext</b></p>\n",
       "\n",
       "            <p><a href=\"http://10.142.35.83:4040\">Spark UI</a></p>\n",
       "\n",
       "            <dl>\n",
       "              <dt>Version</dt>\n",
       "                <dd><code>v2.2.0</code></dd>\n",
       "              <dt>Master</dt>\n",
       "                <dd><code>local[*]</code></dd>\n",
       "              <dt>AppName</dt>\n",
       "                <dd><code>PySparkShell</code></dd>\n",
       "            </dl>\n",
       "        </div>\n",
       "        "
      ],
      "text/plain": [
       "<SparkContext master=local[*] appName=PySparkShell>"
      ]
     },
     "execution_count": 1,
     "metadata": {},
     "output_type": "execute_result"
    }
   ],
   "source": [
    "sc"
   ]
  },
  {
   "cell_type": "code",
   "execution_count": 2,
   "metadata": {},
   "outputs": [
    {
     "ename": "ImportError",
     "evalue": "No module named 'bdgenomics.gnocchi'",
     "output_type": "error",
     "traceback": [
      "\u001b[0;31m---------------------------------------------------------------------------\u001b[0m",
      "\u001b[0;31mImportError\u001b[0m                               Traceback (most recent call last)",
      "\u001b[0;32m<ipython-input-2-11835199d73a>\u001b[0m in \u001b[0;36m<module>\u001b[0;34m()\u001b[0m\n\u001b[0;32m----> 1\u001b[0;31m \u001b[0;32mfrom\u001b[0m \u001b[0mbdgenomics\u001b[0m\u001b[0;34m.\u001b[0m\u001b[0mgnocchi\u001b[0m\u001b[0;34m.\u001b[0m\u001b[0mgnocchiSession\u001b[0m \u001b[0;32mimport\u001b[0m \u001b[0mGnocchiSession\u001b[0m\u001b[0;34m\u001b[0m\u001b[0m\n\u001b[0m\u001b[1;32m      2\u001b[0m \u001b[0;32mfrom\u001b[0m \u001b[0mbdgenomics\u001b[0m\u001b[0;34m.\u001b[0m\u001b[0mgnocchi\u001b[0m\u001b[0;34m.\u001b[0m\u001b[0mlinearGnocchiModel\u001b[0m \u001b[0;32mimport\u001b[0m \u001b[0mLinearGnocchiModel\u001b[0m\u001b[0;34m\u001b[0m\u001b[0m\n\u001b[1;32m      3\u001b[0m \u001b[0;32mfrom\u001b[0m \u001b[0mbdgenomics\u001b[0m\u001b[0;34m.\u001b[0m\u001b[0mgnocchi\u001b[0m\u001b[0;34m.\u001b[0m\u001b[0mlogisticGnocchiModel\u001b[0m \u001b[0;32mimport\u001b[0m \u001b[0mLogisticGnocchiModel\u001b[0m\u001b[0;34m\u001b[0m\u001b[0m\n",
      "\u001b[0;31mImportError\u001b[0m: No module named 'bdgenomics.gnocchi'"
     ]
    }
   ],
   "source": [
    "from bdgenomics.gnocchi.gnocchiSession import GnocchiSession\n",
    "from bdgenomics.gnocchi.linearGnocchiModel import LinearGnocchiModel\n",
    "from bdgenomics.gnocchi.logisticGnocchiModel import LogisticGnocchiModel"
   ]
  },
  {
   "cell_type": "code",
   "execution_count": 3,
   "metadata": {},
   "outputs": [],
   "source": [
    "genotypesPath1 = \"../examples/testData/time_genos_1.vcf\"\n",
    "phenotypesPath1 = \"../examples/testData/tab_time_phenos_1.txt\""
   ]
  },
  {
   "cell_type": "code",
   "execution_count": 4,
   "metadata": {},
   "outputs": [],
   "source": [
    "gs = GnocchiSession(spark)"
   ]
  },
  {
   "cell_type": "code",
   "execution_count": 5,
   "metadata": {},
   "outputs": [],
   "source": [
    "genos = gs.loadGenotypes(genotypesPath1)\n",
    "phenos = gs.loadPhenotypes(phenotypesPath1, \"IID\", \"pheno_1\", \"\\t\")\n",
    "\n",
    "lgm = LinearGnocchiModel(spark, genos.get(), phenos.get(), [\"AD\"], [\"GI\"])"
   ]
  },
  {
   "cell_type": "code",
   "execution_count": 7,
   "metadata": {},
   "outputs": [
    {
     "data": {
      "text/plain": [
       "<bdgenomics.gnocchi.linearGnocchiModel.LinearGnocchiModel at 0x10759fda0>"
      ]
     },
     "execution_count": 7,
     "metadata": {},
     "output_type": "execute_result"
    }
   ],
   "source": [
    "lgm"
   ]
  },
  {
   "cell_type": "code",
   "execution_count": 11,
   "metadata": {},
   "outputs": [
    {
     "data": {
      "text/plain": [
       "['_LinearGnocchiModel__jlgm',\n",
       " '_LinearGnocchiModel__jlgmf',\n",
       " '_LinearGnocchiModel__lgm',\n",
       " '__class__',\n",
       " '__delattr__',\n",
       " '__dict__',\n",
       " '__dir__',\n",
       " '__doc__',\n",
       " '__eq__',\n",
       " '__format__',\n",
       " '__ge__',\n",
       " '__getattribute__',\n",
       " '__gt__',\n",
       " '__hash__',\n",
       " '__init__',\n",
       " '__le__',\n",
       " '__lt__',\n",
       " '__module__',\n",
       " '__ne__',\n",
       " '__new__',\n",
       " '__reduce__',\n",
       " '__reduce_ex__',\n",
       " '__repr__',\n",
       " '__setattr__',\n",
       " '__sizeof__',\n",
       " '__str__',\n",
       " '__subclasshook__',\n",
       " '__weakref__',\n",
       " '_jvm',\n",
       " '_sc',\n",
       " 'get',\n",
       " 'mergeGnocchiModel',\n",
       " 'mergeQCVariants',\n",
       " 'mergeVariantModels']"
      ]
     },
     "execution_count": 11,
     "metadata": {},
     "output_type": "execute_result"
    }
   ],
   "source": [
    "dir(lgm)"
   ]
  },
  {
   "cell_type": "code",
   "execution_count": null,
   "metadata": {},
   "outputs": [],
   "source": []
  }
 ],
 "metadata": {
  "kernelspec": {
   "display_name": "Python 3",
   "language": "python",
   "name": "python3"
  },
  "language_info": {
   "codemirror_mode": {
    "name": "ipython",
    "version": 3
   },
   "file_extension": ".py",
   "mimetype": "text/x-python",
   "name": "python",
   "nbconvert_exporter": "python",
   "pygments_lexer": "ipython3",
   "version": "3.5.0"
  }
 },
 "nbformat": 4,
 "nbformat_minor": 1
}
